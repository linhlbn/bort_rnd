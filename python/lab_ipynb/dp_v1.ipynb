{
 "cells": [
  {
   "cell_type": "code",
   "execution_count": 1,
   "id": "5eb33235-5cd9-4119-a456-e9d284824381",
   "metadata": {},
   "outputs": [],
   "source": [
    "# !pip install pypdf\n",
    "# !pip install langchain\n",
    "# !pip install google-cloud-storage\n",
    "# !pip install openai\n",
    "# !pip install tiktoken\n",
    "# !pip install psycopg2\n",
    "# !pip install cloud-sql-python-connector\n",
    "# !pip install asyncio asyncpg\n",
    "# !pip install pgvector"
   ]
  },
  {
   "cell_type": "code",
   "execution_count": 2,
   "id": "4a4011a1-7e31-48b3-b9c0-87d5a24cfbd6",
   "metadata": {},
   "outputs": [],
   "source": [
    "import os\n",
    "import openai\n",
    "import sys\n",
    "from datetime import datetime\n",
    "from google.cloud.sql.connector import Connector\n",
    "import asyncio\n",
    "import asyncpg\n",
    "import pickle\n",
    "from pgvector.asyncpg import register_vector\n",
    "\n",
    "\n",
    "from google.cloud import storage\n",
    "sys.path.append('../..')\n",
    "\n",
    "from dotenv import load_dotenv, find_dotenv\n",
    "_ = load_dotenv(find_dotenv()) \n",
    "\n",
    "openai.api_key  = os.environ['OPENAI_API_KEY']"
   ]
  },
  {
   "cell_type": "code",
   "execution_count": 3,
   "id": "3c7befcc-da57-4a9a-9e3f-6526be0ed05e",
   "metadata": {},
   "outputs": [],
   "source": [
    "query = \"\"\"\n",
    "CREATE TABLE IF NOT EXISTS Document_test (\n",
    "    document_id SERIAL PRIMARY KEY,\n",
    "    tag VARCHAR(255),\n",
    "    content TEXT,\n",
    "    embedding VECTOR(1536)\n",
    ");\n",
    "\"\"\"\n",
    "\n",
    "async def connect_execute(query):\n",
    "    conn = await asyncpg.connect(\n",
    "        host=os.getenv('DB_HOST'),\n",
    "        database=os.getenv('DB_NAME'),\n",
    "        user=os.getenv('DB_USER'),\n",
    "        password=os.getenv('DB_PASS'),\n",
    "        port=os.getenv('DB_PORT')\n",
    "    )\n",
    "\n",
    "    await conn.execute(query)\n",
    "    print(\"Query created successfully.\")\n",
    "\n",
    "    await conn.close()\n",
    "\n",
    "loop = asyncio.get_event_loop()\n",
    "\n",
    "task = loop.create_task(connect_execute(query))"
   ]
  },
  {
   "cell_type": "code",
   "execution_count": 4,
   "id": "1f932aa9-a483-4c40-8d0a-3b8c3b9e0aeb",
   "metadata": {},
   "outputs": [
    {
     "name": "stdout",
     "output_type": "stream",
     "text": [
      "The file Orthian Services.pdf has been downloaded.\n"
     ]
    }
   ],
   "source": [
    "from langchain.document_loaders import PyPDFLoader\n",
    "from langchain.embeddings.openai import OpenAIEmbeddings\n",
    "from google.cloud import storage\n",
    "\n",
    "storage_client = storage.Client.from_service_account_json(str(os.getenv('STORAGE_SERVICE_JSON')))\n",
    "\n",
    "bucket_name = 'bort_storage'\n",
    "\n",
    "pdf_file_name = 'Orthian Services.pdf'\n",
    "\n",
    "bucket = storage_client.get_bucket(bucket_name)\n",
    "\n",
    "blob = bucket.blob(pdf_file_name)\n",
    "\n",
    "blob.download_to_filename(pdf_file_name.split('/')[-1])\n",
    "\n",
    "print(f\"The file {pdf_file_name} has been downloaded.\")\n",
    "\n",
    "\n",
    "loaders = [\n",
    "    PyPDFLoader(pdf_file_name.split('/')[-1]),\n",
    "    # next\n",
    "]\n",
    "\n",
    "docs = []\n",
    "\n",
    "for loader in loaders:\n",
    "    docs.extend(loader.load())\n",
    "\n",
    "# Split\n",
    "from langchain.text_splitter import RecursiveCharacterTextSplitter\n",
    "text_splitter = RecursiveCharacterTextSplitter(\n",
    "    separators=[\".\", \"\\n\"],\n",
    "    chunk_size = 1536,\n",
    "    chunk_overlap = 0\n",
    ")\n",
    "texts = text_splitter.split_documents(docs)"
   ]
  },
  {
   "cell_type": "code",
   "execution_count": 5,
   "id": "8a4b66de-75d3-41ab-b97f-3df3c7f657a8",
   "metadata": {},
   "outputs": [
    {
     "data": {
      "text/plain": [
       "'\"We\\npride\\nourselves\\nto\\nbecome\\na\\ntrusted\\ndigital\\npartner\\nand\\noffer\\nexceptional\\nservices\\nto\\norganizations\\nat\\nall\\nsizes\\nincluding:\\n1.\\nBusiness\\nInnovation\\n+Al;\\n2.\\nWebsite\\nDesign\\n&\\nDevelopment;\\n3.\\nSoftware\\nDevelopment;\\n4.\\nIT\\nServices;\\n5.\\nMarketing\\nDesign\"\\n\"With\\nOrthian,\\nyou\\ngain\\nmore\\nthan\\njust\\na\\nproduct\\nstudio.\\nOrthian\\nis\\nyour\\ntrusted\\nally\\nin\\ndriving\\nbusiness\\nsuccess\\nthrough\\ndigital\\ninnovation.\\nWe\\nmake\\ninnovation\\nwith\\ntangible\\nimpact:\\nInnovation\\nis\\nmore\\nthan\\njust\\na\\nbuzzword\\nto\\nus;\\nit\\'s\\nabout\\ndelivering\\nreal-world\\nresults.\\nFrom\\nboosting\\noperational\\nefficiency\\nwith\\nsoftware\\ndevelopment\\nto\\ndriving\\ncustomer\\nengagement\\nthrough\\ncaptivating\\ndesign,\\nwe\\'re\\ncommitted\\nto\\ncreating\\ninnovation\\nthat\\ntangibly\\nenhances\\nyour\\nbusiness\\'s\\nbottom\\nline.\\nWe\\ncustomize\\nsolutions\\nfor\\nyour\\nscale:\\nWe\\nunderstand\\nthat\\nbusinesses\\nvary\\nin\\nsize\\nand\\nneeds.\\nWhether\\nyou\\nare\\na\\nstartup\\naiming\\nfor\\nrapid\\nexpansion\\nor\\na\\nlarge\\nenterprise\\nseeking\\nto\\noptimize\\nprocesses,\\nwe\\nhave\\ngot\\nyou\\ncovered.\\nOur\\nclient-centric\\nsolutions\\nare\\ncustom-tailored\\nto\\nmatch\\nyour\\nspecific\\nrequirements,\\nensuring\\nthat\\nyou\\nreceive\\nprecisely\\nthe\\nsupport\\nyou\\nneed\\nat\\nevery\\nstage\\nof\\nyour\\njourney .\\nWe\\nfoster\\ncollaborative\\nexpertise\\nat\\nyour\\nfingertips:\\nBy\\nchoosing\\nus,\\nyou\\nare\\nnot\\njust\\nhiring\\na\\nservice\\nprovider;\\nyou\\nare\\ngaining\\na\\nteam\\nof\\nexperts\\nwho\\ntruly\\nbecome\\nyour\\npartners.\\nOur\\ncollaborative\\napproach\\nmeans\\nwe\\nwork\\nclosely\\nwith\\nyour\\nteam,\\nleveraging\\nyour\\nindustry\\nknowledge\\nand\\ncombining\\nit\\nwith\\nour\\ndigital\\nexpertise.\\nTogether ,\\nwe\\nco-create\\nsolutions\\nthat\\nalign\\nwith\\nyour\\ngoals\\nand\\nvalues'"
      ]
     },
     "execution_count": 5,
     "metadata": {},
     "output_type": "execute_result"
    }
   ],
   "source": [
    "texts[0].page_content"
   ]
  },
  {
   "cell_type": "code",
   "execution_count": 6,
   "id": "4fe71dbf-3637-47ce-b2c1-120ebc003d6d",
   "metadata": {},
   "outputs": [],
   "source": [
    "insert_query = \"\"\"\n",
    "    INSERT INTO Document_test (tag, content, embedding) VALUES ($1, $2, $3);\n",
    "\"\"\"\n",
    "\n",
    "async def connect_execute(insert_query, splits):\n",
    "    conn = await asyncpg.connect(\n",
    "        host=os.getenv('DB_HOST'),\n",
    "        database=os.getenv('DB_NAME'),\n",
    "        user=os.getenv('DB_USER'),\n",
    "        password=os.getenv('DB_PASS'),\n",
    "        port=os.getenv('DB_PORT')\n",
    "    )\n",
    "\n",
    "    \n",
    "    await conn.execute(\"CREATE EXTENSION IF NOT EXISTS vector\")\n",
    "    await register_vector(conn)\n",
    "\n",
    "    embeddings = OpenAIEmbeddings()\n",
    "    doc_vector = embeddings.embed_documents([t.page_content for t in texts])\n",
    "\n",
    "    i = -1 \n",
    "    for split in splits:\n",
    "        try:\n",
    "            i = i + 1\n",
    "            await conn.execute(insert_query, 'Company info', split.page_content, doc_vector[i])\n",
    "            print(\"added successfully.\")\n",
    "        except Exception as e:\n",
    "            print(f\"Failed to add split: {e}\")\n",
    "\n",
    "    await conn.close()\n",
    "\n",
    "loop = asyncio.get_event_loop()\n",
    "\n",
    "task = loop.create_task(connect_execute(insert_query, texts))"
   ]
  },
  {
   "cell_type": "code",
   "execution_count": 7,
   "id": "9ba77180-be7c-45a7-8ae1-9e761ca8279f",
   "metadata": {},
   "outputs": [
    {
     "name": "stdout",
     "output_type": "stream",
     "text": [
      "Query created successfully.\n",
      "added successfully.\n",
      "added successfully.\n",
      "added successfully.\n",
      "Query executed successfully.\n",
      "   document_id           tag  \\\n",
      "0            1  Company info   \n",
      "\n",
      "                                             content  \\\n",
      "0  \"We\\npride\\nourselves\\nto\\nbecome\\na\\ntrusted\\...   \n",
      "\n",
      "                                           embedding  \n",
      "0  [0.0028839186,-0.011037433,-0.014199882,-0.014...  \n"
     ]
    }
   ],
   "source": [
    "import pandas as pd\n",
    "\n",
    "query = \"\"\"\n",
    "SELECT * FROM Document_test limit 1;\n",
    "\"\"\"\n",
    "\n",
    "async def connect_execute(query):\n",
    "    conn = await asyncpg.connect(\n",
    "        host=os.getenv('DB_HOST'),\n",
    "        database=os.getenv('DB_NAME'),\n",
    "        user=os.getenv('DB_USER'),\n",
    "        password=os.getenv('DB_PASS'),\n",
    "        port=os.getenv('DB_PORT')\n",
    "    )\n",
    "\n",
    "    rows = await conn.fetch(query)\n",
    "    print(\"Query executed successfully.\")\n",
    "\n",
    "    column_names = ['document_id', 'tag', 'content', 'embedding']\n",
    "\n",
    "    df = pd.DataFrame(rows, columns=column_names)\n",
    "\n",
    "    await conn.close()\n",
    "\n",
    "    return df\n",
    "\n",
    "loop = asyncio.get_event_loop()\n",
    "\n",
    "task = loop.create_task(connect_execute(query))\n",
    "\n",
    "df = await task\n",
    "\n",
    "print(df)"
   ]
  },
  {
   "cell_type": "code",
   "execution_count": null,
   "id": "47c3b976-e779-49c7-b87c-99f2adb11ce5",
   "metadata": {},
   "outputs": [],
   "source": []
  },
  {
   "cell_type": "code",
   "execution_count": null,
   "id": "29aee7f8-236c-4abf-b8fa-3ff01bb1ad78",
   "metadata": {},
   "outputs": [],
   "source": []
  }
 ],
 "metadata": {
  "kernelspec": {
   "display_name": "Python 3 (ipykernel)",
   "language": "python",
   "name": "python3"
  },
  "language_info": {
   "codemirror_mode": {
    "name": "ipython",
    "version": 3
   },
   "file_extension": ".py",
   "mimetype": "text/x-python",
   "name": "python",
   "nbconvert_exporter": "python",
   "pygments_lexer": "ipython3",
   "version": "3.11.5"
  }
 },
 "nbformat": 4,
 "nbformat_minor": 5
}
